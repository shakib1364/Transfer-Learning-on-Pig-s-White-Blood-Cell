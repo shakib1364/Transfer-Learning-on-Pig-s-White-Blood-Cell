{
  "nbformat": 4,
  "nbformat_minor": 0,
  "metadata": {
    "colab": {
      "provenance": [],
      "collapsed_sections": [
        "x1nCO89wX7MO",
        "nDjSVos_-l3a"
      ],
      "authorship_tag": "ABX9TyPg81D/jENWFHR1riko1j5T",
      "include_colab_link": true
    },
    "kernelspec": {
      "name": "python3",
      "display_name": "Python 3"
    },
    "language_info": {
      "name": "python"
    }
  },
  "cells": [
    {
      "cell_type": "markdown",
      "metadata": {
        "id": "view-in-github",
        "colab_type": "text"
      },
      "source": [
        "<a href=\"https://colab.research.google.com/github/shakib1364/Transfer-Learning-on-Pig-s-White-Blood-Cell/blob/main/Self_Attention_from_Scretch.ipynb\" target=\"_parent\"><img src=\"https://colab.research.google.com/assets/colab-badge.svg\" alt=\"Open In Colab\"/></a>"
      ]
    },
    {
      "cell_type": "code",
      "execution_count": null,
      "metadata": {
        "id": "a5Su6I4C39AF"
      },
      "outputs": [],
      "source": [
        "# prompt: write a self attention code from scratch\n",
        "\n",
        "import tensorflow as tf\n",
        "\n",
        "class SelfAttention(tf.keras.layers.Layer):\n",
        "  def __init__(self, num_hiddens, num_heads, dropout, bias=False):\n",
        "    super(SelfAttention, self).__init__()\n",
        "    self.num_hiddens = num_hiddens\n",
        "    self.num_heads = num_heads\n",
        "    self.attention = DotProductAttention(dropout)\n",
        "    self.W_q = tf.keras.layers.Dense(num_hiddens, use_bias=bias)\n",
        "    self.W_k = tf.keras.layers.Dense(num_hiddens, use_bias=bias)\n",
        "    self.W_v = tf.keras.layers.Dense(num_hiddens, use_bias=bias)\n",
        "    self.W_o = tf.keras.layers.Dense(num_hiddens, use_bias=bias)\n",
        "  def call(self, queries, keys, values, valid_lens):\n",
        "    queries = transpose_qkv(self.W_q(queries), self.num_heads)\n",
        "    keys = transpose_qkv(self.W_k(keys), self.num_heads)\n",
        "    values = transpose_qkv(self.W_v(values), self.num_heads)\n",
        "    output = self.attention(queries, keys, values, valid_lens)\n",
        "    output_concat = transpose_output(output, self.num_heads)\n",
        "    return self.W_o(output_concat)\n",
        "class DotProductAttention(tf.keras.layers.Layer):\n",
        "  def __init__(self, dropout):\n",
        "    super(DotProductAttention, self).__init__()\n",
        "    self.dropout = tf.keras.layers.Dropout(dropout)\n",
        "  def call(self, queries, keys, values, valid_lens):\n",
        "    d = queries.shape[-1]\n",
        "    scores = tf.matmul(queries, keys, transpose_b=True) / tf.math.sqrt(tf.cast(d, tf.float32))\n",
        "    scores = scores + valid_lens\n",
        "    attention_weights = tf.nn.softmax(scores, axis=-1)\n",
        "    attention_weights = self.dropout(attention_weights)\n",
        "    return tf.matmul(attention_weights, values)\n",
        "def transpose_qkv(X, num_heads):\n",
        "  X = tf.reshape(X, shape=(-1, X.shape[1], num_heads, X.shape[2] // num_heads))\n",
        "  X = tf.transpose(X, perm=(0, 2, 1, 3))\n",
        "  return X\n",
        "def transpose_output(X, num_heads):\n",
        "  X = tf.transpose(X, perm=(0, 2, 1, 3))\n",
        "  return tf.reshape(X, shape=(-1, X.shape[1], X.shape[3] * num_heads))\n"
      ]
    },
    {
      "cell_type": "code",
      "source": [
        "import numpy as np\n",
        "import math\n",
        "\n",
        "L, d_k, d_v, = 4, 8, 8\n",
        "q = np.random.randn(L, d_k)\n",
        "k = np.random.randn(L, d_k)\n",
        "v = np.random.randn(L, d_v)\n",
        "\n",
        "print(\"Q/n\", q)\n",
        "print(\"K/n\", k)\n",
        "print(\"V/n\", v)\n"
      ],
      "metadata": {
        "id": "MexiAmlf4xT7"
      },
      "execution_count": null,
      "outputs": []
    },
    {
      "cell_type": "markdown",
      "source": [
        "### Why need self-attention?"
      ],
      "metadata": {
        "id": "x1nCO89wX7MO"
      }
    },
    {
      "cell_type": "code",
      "source": [
        "np.matmul(q, k.T)"
      ],
      "metadata": {
        "id": "euoxOXAWYPnD"
      },
      "execution_count": null,
      "outputs": []
    },
    {
      "cell_type": "code",
      "source": [
        "q.var(), k.var(), np.matmul(q, k.T).var()"
      ],
      "metadata": {
        "id": "zvq5fUQL8HZL"
      },
      "execution_count": null,
      "outputs": []
    },
    {
      "cell_type": "code",
      "source": [
        "scaled = np.matmul(q, k.T)/math.sqrt(d_k)\n",
        "q.var(), k.var(), scaled.var()"
      ],
      "metadata": {
        "colab": {
          "base_uri": "https://localhost:8080/"
        },
        "id": "aQkLvpXz83wi",
        "outputId": "5d49b547-07ed-495e-d991-fda1dac1d774"
      },
      "execution_count": null,
      "outputs": [
        {
          "output_type": "execute_result",
          "data": {
            "text/plain": [
              "(0.7327166434320771, 0.9096103414889943, 0.40459314499420407)"
            ]
          },
          "metadata": {},
          "execution_count": 5
        }
      ]
    },
    {
      "cell_type": "markdown",
      "source": [
        "###**Masking**\n",
        "- This is to ensure words don't get context from words generated in the future.\n",
        "- Not required in the encoders but rquired in the decoders."
      ],
      "metadata": {
        "id": "nDjSVos_-l3a"
      }
    },
    {
      "cell_type": "code",
      "source": [
        "mask = np.tril(np.ones( (L, L) ))\n",
        "mask"
      ],
      "metadata": {
        "id": "MiCtU1wt95Ub"
      },
      "execution_count": null,
      "outputs": []
    },
    {
      "cell_type": "code",
      "source": [
        "mask[mask==0] = -np.infty\n",
        "mask[mask==1] = 0\n",
        "mask"
      ],
      "metadata": {
        "id": "5VXMlJRk_S45"
      },
      "execution_count": null,
      "outputs": []
    },
    {
      "cell_type": "code",
      "source": [
        "scaled+mask"
      ],
      "metadata": {
        "id": "DanhJAsZABJc"
      },
      "execution_count": null,
      "outputs": []
    },
    {
      "cell_type": "code",
      "source": [
        "def softmax(x):\n",
        "  return (np.exp(x).T / np.sum(np.exp(x), axis=-1)).T\n",
        "\n",
        "attention = softmax(scaled+mask)\n",
        "attention"
      ],
      "metadata": {
        "id": "yNvbsXgrAOWm"
      },
      "execution_count": null,
      "outputs": []
    },
    {
      "cell_type": "code",
      "source": [
        "new_v = np.matmul(attention, v)\n",
        "new_v"
      ],
      "metadata": {
        "id": "WfKySEd8QY_y"
      },
      "execution_count": null,
      "outputs": []
    },
    {
      "cell_type": "code",
      "source": [
        "def softmax(x):\n",
        "  return (np.exp(x).T / np.sum(np.exp(x), axis=-1)).T\n",
        "\n",
        "def scaled_dot_product_attention(q, k, v, mask=None):\n",
        "  d_k = q.shape[-1]\n",
        "  scaled = np.matmul(q, k.T) / math.sqrt(d_k)\n",
        "  if mask is not None:\n",
        "    scaled = scaled + mask\n",
        "  attention = softmax(scaled)\n",
        "  out = np.matmul(attention, v)\n",
        "  return out, attention"
      ],
      "metadata": {
        "id": "CSry4EfORW3w"
      },
      "execution_count": null,
      "outputs": []
    },
    {
      "cell_type": "code",
      "source": [
        "values, attention = scaled_dot_product_attention(q, k, v, mask=mask)\n",
        "print(\"Q/n\", q)\n",
        "print(\"K/n\", k)\n",
        "print(\"V/n\", v)\n",
        "print(\"New V\\n\", values)\n",
        "print(\"Attention\\n\", attention)"
      ],
      "metadata": {
        "colab": {
          "base_uri": "https://localhost:8080/"
        },
        "id": "v17ouY1RS_F2",
        "outputId": "7f321bae-9c24-45e7-d0e2-77110f451bec"
      },
      "execution_count": null,
      "outputs": [
        {
          "output_type": "stream",
          "name": "stdout",
          "text": [
            "Q/n [[-0.22725209  0.19017038 -1.25114645 -1.60011654  0.84150335  1.01990211\n",
            "   0.34129021  0.00248908]\n",
            " [-0.20413995  1.59576592  0.54901898 -0.04465936 -0.43112762 -0.87721749\n",
            "   0.09576519  0.91020876]\n",
            " [-0.28440536  1.10386939  0.00492604 -1.16604145 -0.30778306 -1.73889011\n",
            "   0.9162179   1.30897592]\n",
            " [-0.19456469 -0.16751012  0.62563674  0.46679993 -1.24958566  1.19980282\n",
            "   0.16474196  0.92063551]]\n",
            "K/n [[-1.31579679 -0.45811179 -0.51386137  0.91222848  0.55710378 -0.6549167\n",
            "   0.8844657   0.06065584]\n",
            " [ 0.85422319 -0.47238994  0.34522987  0.82301987  0.7667225  -0.47701927\n",
            "  -0.87768361  0.82211111]\n",
            " [ 0.58533978  1.46084103  0.4575586   0.30232704  0.99251451 -1.35205815\n",
            "  -1.552387   -2.26042259]\n",
            " [ 1.72204824 -0.30073142 -0.42415881 -1.70990408  0.56949191  0.39512841\n",
            "  -0.16085376  0.8839436 ]]\n",
            "V/n [[-0.68709021  1.86512806 -0.36518021  0.04592316 -0.55808395 -0.81443247\n",
            "  -0.07224199  0.30840532]\n",
            " [-0.75227043 -1.37519284 -0.15201227  0.04156362  0.4868172   1.3067235\n",
            "  -1.1128287   0.56209789]\n",
            " [-0.16232935  4.20561181 -0.16906803  0.99516774  0.40800219  0.1628108\n",
            "   0.14304644  0.07275744]\n",
            " [ 0.12073143 -1.33010256 -1.44116359  1.24632832 -2.47563192  1.31192835\n",
            "   0.53498511 -0.04494886]]\n",
            "New V\n",
            " [[-0.68709021  1.86512806 -0.36518021  0.04592316 -0.55808395 -0.81443247\n",
            "  -0.07224199  0.30840532]\n",
            " [-0.7213368   0.16261867 -0.25317883  0.0436326  -0.00907844  0.30005219\n",
            "  -0.61898063  0.4416989 ]\n",
            " [-0.57735534  1.53127221 -0.25787281  0.27611592 -0.03091995  0.0158515\n",
            "  -0.31020286  0.32176808]\n",
            " [-0.4344234  -0.0493991  -0.60060283  0.46405219 -0.70968861  0.61116536\n",
            "  -0.23408124  0.2747472 ]]\n",
            "Attention\n",
            " [[1.         0.         0.         0.        ]\n",
            " [0.47458618 0.52541382 0.         0.        ]\n",
            " [0.47710102 0.2791161  0.24378289 0.        ]\n",
            " [0.29384064 0.34308606 0.06454175 0.29853155]]\n"
          ]
        }
      ]
    },
    {
      "cell_type": "markdown",
      "source": [
        "###**MultiHead Attention**\n",
        "\n"
      ],
      "metadata": {
        "id": "1rAzvbfYiWfa"
      }
    },
    {
      "cell_type": "code",
      "source": [
        "# prompt: Write down MultiHead attention code of a ViT model\n",
        "\n",
        "class MultiHeadAttention(tf.keras.layers.Layer):\n",
        "  def __init__(self, key_size, query_size, value_size, num_hiddens, num_heads, dropout, bias=False):\n",
        "    super(MultiHeadAttention, self).__init__()\n",
        "    self.num_heads = num_heads\n",
        "    self.attention = DotProductAttention(dropout)\n",
        "    self.W_q = tf.keras.layers.Dense(num_hiddens, use_bias=bias)\n",
        "    self.W_k = tf.keras.layers.Dense(num_hiddens, use_bias=bias)\n",
        "    self.W_v = tf.keras.layers.Dense(num_hiddens, use_bias=bias)\n",
        "    self.W_o = tf.keras.layers.Dense(num_hiddens, use_bias=bias)\n",
        "  def call(self, queries, keys, values, valid_lens):\n",
        "    queries = transpose_qkv(self.W_q(queries), self.num_heads)\n",
        "    keys = transpose_qkv(self.W_k(keys), self.num_heads)\n",
        "    values = transpose_qkv(self.W_v(values), self.num_heads)\n",
        "    output = self.attention(queries, keys, values, valid_lens)\n",
        "    output_concat = transpose_output(output, self.num_heads)\n",
        "    return self.W_o(output_concat)\n"
      ],
      "metadata": {
        "id": "YoYlCl7DinFz"
      },
      "execution_count": null,
      "outputs": []
    },
    {
      "cell_type": "code",
      "source": [
        "import torch\n",
        "import numpy as np\n",
        "import torch.nn as nn\n",
        "import torch.nn.functional as F\n",
        "\n",
        "sequence_length = 4\n",
        "batch_size = 1\n",
        "input_dim = 512\n",
        "d_model = 512\n",
        "x = torch.randn((batch_size, sequence_length, input_dim))"
      ],
      "metadata": {
        "id": "HkELp6ocjC5T"
      },
      "execution_count": 3,
      "outputs": []
    },
    {
      "cell_type": "code",
      "source": [
        "x.size()"
      ],
      "metadata": {
        "colab": {
          "base_uri": "https://localhost:8080/"
        },
        "id": "NbO0HmutkG1C",
        "outputId": "5bb07032-0fcd-4fea-98c9-8473921087e2"
      },
      "execution_count": 5,
      "outputs": [
        {
          "output_type": "execute_result",
          "data": {
            "text/plain": [
              "torch.Size([1, 4, 512])"
            ]
          },
          "metadata": {},
          "execution_count": 5
        }
      ]
    },
    {
      "cell_type": "code",
      "source": [
        "qkv_layer = nn.Linear(input_dim, 3*d_model)\n",
        "qkv = qkv_layer(x)"
      ],
      "metadata": {
        "id": "2S2Hdcx3k-tg"
      },
      "execution_count": 6,
      "outputs": []
    },
    {
      "cell_type": "code",
      "source": [
        "!"
      ],
      "metadata": {
        "colab": {
          "base_uri": "https://localhost:8080/"
        },
        "id": "wijA_YtRoe1I",
        "outputId": "ebb8e9a3-c938-476c-a9b0-bbd77a676843"
      },
      "execution_count": 8,
      "outputs": [
        {
          "output_type": "stream",
          "name": "stdout",
          "text": [
            "sample_data\n"
          ]
        }
      ]
    }
  ]
}